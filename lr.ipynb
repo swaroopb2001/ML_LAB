{
 "cells": [
  {
   "cell_type": "code",
   "execution_count": 17,
   "id": "570dfd73",
   "metadata": {},
   "outputs": [],
   "source": [
    "import numpy as np\n",
    "import pandas as pd\n",
    "import matplotlib.pyplot as plt\n",
    "from sklearn.model_selection import train_test_split"
   ]
  },
  {
   "cell_type": "code",
   "execution_count": 18,
   "id": "be2a9c14",
   "metadata": {},
   "outputs": [
    {
     "data": {
      "text/html": [
       "<div>\n",
       "<style scoped>\n",
       "    .dataframe tbody tr th:only-of-type {\n",
       "        vertical-align: middle;\n",
       "    }\n",
       "\n",
       "    .dataframe tbody tr th {\n",
       "        vertical-align: top;\n",
       "    }\n",
       "\n",
       "    .dataframe thead th {\n",
       "        text-align: right;\n",
       "    }\n",
       "</style>\n",
       "<table border=\"1\" class=\"dataframe\">\n",
       "  <thead>\n",
       "    <tr style=\"text-align: right;\">\n",
       "      <th></th>\n",
       "      <th>Age</th>\n",
       "      <th>Gender</th>\n",
       "      <th>Education Level</th>\n",
       "      <th>Job Title</th>\n",
       "      <th>Years of Experience</th>\n",
       "      <th>Salary</th>\n",
       "    </tr>\n",
       "  </thead>\n",
       "  <tbody>\n",
       "    <tr>\n",
       "      <th>0</th>\n",
       "      <td>32.0</td>\n",
       "      <td>Male</td>\n",
       "      <td>Bachelor's</td>\n",
       "      <td>Software Engineer</td>\n",
       "      <td>5.0</td>\n",
       "      <td>90000.0</td>\n",
       "    </tr>\n",
       "    <tr>\n",
       "      <th>1</th>\n",
       "      <td>28.0</td>\n",
       "      <td>Female</td>\n",
       "      <td>Master's</td>\n",
       "      <td>Data Analyst</td>\n",
       "      <td>3.0</td>\n",
       "      <td>65000.0</td>\n",
       "    </tr>\n",
       "    <tr>\n",
       "      <th>2</th>\n",
       "      <td>45.0</td>\n",
       "      <td>Male</td>\n",
       "      <td>PhD</td>\n",
       "      <td>Senior Manager</td>\n",
       "      <td>15.0</td>\n",
       "      <td>150000.0</td>\n",
       "    </tr>\n",
       "    <tr>\n",
       "      <th>3</th>\n",
       "      <td>36.0</td>\n",
       "      <td>Female</td>\n",
       "      <td>Bachelor's</td>\n",
       "      <td>Sales Associate</td>\n",
       "      <td>7.0</td>\n",
       "      <td>60000.0</td>\n",
       "    </tr>\n",
       "    <tr>\n",
       "      <th>4</th>\n",
       "      <td>52.0</td>\n",
       "      <td>Male</td>\n",
       "      <td>Master's</td>\n",
       "      <td>Director</td>\n",
       "      <td>20.0</td>\n",
       "      <td>200000.0</td>\n",
       "    </tr>\n",
       "  </tbody>\n",
       "</table>\n",
       "</div>"
      ],
      "text/plain": [
       "    Age  Gender Education Level          Job Title  Years of Experience  \\\n",
       "0  32.0    Male      Bachelor's  Software Engineer                  5.0   \n",
       "1  28.0  Female        Master's       Data Analyst                  3.0   \n",
       "2  45.0    Male             PhD     Senior Manager                 15.0   \n",
       "3  36.0  Female      Bachelor's    Sales Associate                  7.0   \n",
       "4  52.0    Male        Master's           Director                 20.0   \n",
       "\n",
       "     Salary  \n",
       "0   90000.0  \n",
       "1   65000.0  \n",
       "2  150000.0  \n",
       "3   60000.0  \n",
       "4  200000.0  "
      ]
     },
     "execution_count": 18,
     "metadata": {},
     "output_type": "execute_result"
    }
   ],
   "source": [
    "df = pd.read_csv('Salary_Data.csv')\n",
    "df.head()\n"
   ]
  },
  {
   "cell_type": "code",
   "execution_count": 19,
   "id": "dc003358",
   "metadata": {},
   "outputs": [
    {
     "data": {
      "text/plain": [
       "(375, 6)"
      ]
     },
     "execution_count": 19,
     "metadata": {},
     "output_type": "execute_result"
    }
   ],
   "source": [
    "df.shape\n"
   ]
  },
  {
   "cell_type": "code",
   "execution_count": 20,
   "id": "1cf10510",
   "metadata": {},
   "outputs": [],
   "source": [
    "X = df['Years of Experience'].values.reshape(-1, 1)\n",
    "Y = df['Salary'].values.reshape(-1, 1)\n"
   ]
  },
  {
   "cell_type": "code",
   "execution_count": 21,
   "id": "ba1b680b",
   "metadata": {},
   "outputs": [],
   "source": [
    "class Linear_Regression():\n",
    "\n",
    "\t# Initiating the parameters.\n",
    "\tdef __init__(self, learning_rate, no_of_itr):\n",
    "\t\tself.learning_rate = learning_rate\n",
    "\t\tself.no_of_itr = no_of_itr\n",
    "\n",
    "\tdef fit(self, X, Y):\n",
    "\n",
    "\t\t# No. of training examples and no. of features.\n",
    "\t\tself.m, self.n = X.shape\t # Number of rows and columns\n",
    "\t\t# Initiating the weight and bias\n",
    "\t\tself.w = np.zeros((self.n, 1))\n",
    "\t\tself.b = 0\n",
    "\t\tself.X = X\n",
    "\t\tself.Y = Y\n",
    "\n",
    "\t\t# Implementing the gradient descent.\n",
    "\t\tfor i in range(self.no_of_itr):\n",
    "\t\t\tself.update_weigths()\n",
    "\n",
    "\tdef update_weigths(self):\n",
    "\t\tY_prediction = self.predict(self.X)\n",
    "\n",
    "\t\t# Calculating gradients\n",
    "\t\tdw = -(self.X.T).dot(self.Y - Y_prediction)/self.m\n",
    "\n",
    "\t\tdb = -np.sum(self.Y - Y_prediction)/self.m\n",
    "\n",
    "\t\t# Updating weights\n",
    "\t\tself.w = self.w - self.learning_rate * dw\n",
    "\t\tself.b = self.b - self.learning_rate * db\n",
    "\n",
    "\tdef predict(self, X):\n",
    "\t\treturn X.dot(self.w) + self.b\n",
    "\n",
    "\tdef print_weights(self):\n",
    "\t\tprint('Weights for the respective features are :')\n",
    "\t\tprint(self.w)\n",
    "\t\tprint()\n",
    "\n",
    "\t\tprint('Bias value for the regression is ', self.b)\n"
   ]
  },
  {
   "cell_type": "code",
   "execution_count": 22,
   "id": "fa607a22",
   "metadata": {},
   "outputs": [],
   "source": [
    "X_train, X_test, Y_train, Y_test = train_test_split(X, Y, random_state=42, test_size=0.2)   "
   ]
  },
  {
   "cell_type": "code",
   "execution_count": 23,
   "id": "c4d90bd6",
   "metadata": {},
   "outputs": [],
   "source": [
    "model = Linear_Regression(learning_rate=0.03,\n",
    "\t\t\t\t\t\tno_of_itr=2000)\n",
    "model.fit(X_train, Y_train)\n"
   ]
  },
  {
   "cell_type": "code",
   "execution_count": 24,
   "id": "bedc003a",
   "metadata": {},
   "outputs": [
    {
     "name": "stdout",
     "output_type": "stream",
     "text": [
      "Weights for the respective features are :\n",
      "[[nan]]\n",
      "\n",
      "Bias value for the regression is  nan\n"
     ]
    }
   ],
   "source": [
    "model.print_weights()\n"
   ]
  },
  {
   "cell_type": "code",
   "execution_count": 27,
   "id": "a9e24453",
   "metadata": {},
   "outputs": [
    {
     "data": {
      "image/png": "[encoded data removed]",
      "text/plain": [
       "<Figure size 640x480 with 1 Axes>"
      ]
     },
     "metadata": {},
     "output_type": "display_data"
    }
   ],
   "source": [
    "plt.scatter(df['Years of Experience'], df['Salary'])\n",
    "plt.xlabel('Years of Experience')\n",
    "plt.ylabel('Salary')\n",
    "plt.title('Exp v/s Salary')\n",
    "\n",
    "X = df['Years of Experience'].values\n",
    "plt.plot(X, 9988 * X + 23876)\n",
    "plt.show()\n"
   ]
  },
  {
   "cell_type": "code",
   "execution_count": null,
   "id": "82396e42",
   "metadata": {},
   "outputs": [],
   "source": []
  }
 ],
 "metadata": {
  "kernelspec": {
   "display_name": "Python 3 (ipykernel)",
   "language": "python",
   "name": "python3"
  },
  "language_info": {
   "codemirror_mode": {
    "name": "ipython",
    "version": 3
   },
   "file_extension": ".py",
   "mimetype": "text/x-python",
   "name": "python",
   "nbconvert_exporter": "python",
   "pygments_lexer": "ipython3",
   "version": "3.9.9"
  }
 },
 "nbformat": 4,
 "nbformat_minor": 5
}
