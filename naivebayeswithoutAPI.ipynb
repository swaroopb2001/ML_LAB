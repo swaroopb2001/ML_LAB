{
 "cells": [
  {
   "cell_type": "code",
   "execution_count": 1,
   "id": "19ee5c95",
   "metadata": {},
   "outputs": [],
   "source": [
    "import numpy as np"
   ]
  },
  {
   "cell_type": "code",
   "execution_count": 2,
   "id": "87589f29",
   "metadata": {},
   "outputs": [],
   "source": [
    "import math\n",
    "import csv\n",
    "import pdb"
   ]
  },
  {
   "cell_type": "code",
   "execution_count": 3,
   "id": "ded07144",
   "metadata": {},
   "outputs": [],
   "source": [
    "def read_data(filename):\n",
    "    with open(filename, 'r') as csvfile:\n",
    "        datareader = csv.reader(csvfile)\n",
    "        metadata = next(datareader)\n",
    "        traindata=[]\n",
    "        for row in datareader:\n",
    "            traindata.append(row)\n",
    "            \n",
    "    return (metadata, traindata)"
   ]
  },
  {
   "cell_type": "code",
   "execution_count": 4,
   "id": "f18cdd8c",
   "metadata": {},
   "outputs": [],
   "source": [
    "def splitDataset(dataset, splitRatio):\n",
    "    trainSize = int(len(dataset) * splitRatio)\n",
    "    trainSet = []\n",
    "    testset = list(dataset)\n",
    "    i=0\n",
    "    while len(trainSet) < trainSize:\n",
    "        trainSet.append(testset.pop(i))\n",
    "    return [trainSet, testset]"
   ]
  },
  {
   "cell_type": "code",
   "execution_count": 5,
   "id": "082ebd4c",
   "metadata": {},
   "outputs": [],
   "source": [
    "\n",
    "def classify(data,test):\n",
    "\n",
    "    total_size = data.shape[0]\n",
    "    print(\"\\n\")\n",
    "    print(\"training data size=\",total_size)\n",
    "    print(\"test data size=\",test.shape[0])\n",
    "\n",
    "    countYes = 0\n",
    "    countNo = 0\n",
    "    probYes = 0\n",
    "    probNo = 0\n",
    "    print(\"\\n\")\n",
    "    print(\"target    count    probability\")\n",
    "\n",
    "    for x in range(data.shape[0]):\n",
    "        if data[x,data.shape[1]-1] == 'yes':\n",
    "            countYes +=1\n",
    "        if data[x,data.shape[1]-1] == 'no':\n",
    "            countNo +=1\n",
    "            \n",
    "    print(\"count yes\", countYes, \"count no\", countNo)\n",
    "\n",
    "    probYes=countYes/total_size\n",
    "    probNo= countNo / total_size\n",
    "\n",
    "    print('yes',\"\\t\",countYes,\"\\t\",probYes)\n",
    "    print('no',\"\\t\",countNo,\"\\t\",probNo)\n",
    "\n",
    "\n",
    "    prob0 =np.zeros((test.shape[1]-1))\n",
    "    prob1 =np.zeros((test.shape[1]-1))\n",
    "    accuracy=0\n",
    "    print(\"\\n\")\n",
    "    print(\"instance prediction  target\")\n",
    "\n",
    "    for t in range(test.shape[0]):\n",
    "        for k in range (test.shape[1]-1):\n",
    "            count1=count0=0\n",
    "            for j in range (data.shape[0]):\n",
    "                #how many times appeared with no\n",
    "                if test[t,k] == data[j,k] and data[j,data.shape[1]-1]=='no':\n",
    "                    count0+=1\n",
    "                #how many times appeared with yes\n",
    "                if test[t,k]==data[j,k] and data[j,data.shape[1]-1]=='yes':\n",
    "                    count1+=1\n",
    "            prob0[k]=count0/countNo\n",
    "            prob1[k]=count1/countYes\n",
    "\n",
    "        probno=probNo\n",
    "        probyes=probYes\n",
    "        for i in range(test.shape[1]-1):\n",
    "            probno=probno*prob0[i]\n",
    "            probyes=probyes*prob1[i]\n",
    "        if probno>probyes:\n",
    "            predict='no'\n",
    "        else:\n",
    "            predict='yes'\n",
    "\n",
    "        print(t+1,\"\\t\",predict,\"\\t    \",test[t,test.shape[1]-1])\n",
    "        if predict == test[t,test.shape[1]-1]:\n",
    "            accuracy+=1\n",
    "    final_accuracy=(accuracy/test.shape[0])*100\n",
    "    print(\"accuracy\",final_accuracy,\"%\")\n",
    "    return"
   ]
  },
  {
   "cell_type": "code",
   "execution_count": 6,
   "id": "4c285684",
   "metadata": {},
   "outputs": [
    {
     "name": "stdout",
     "output_type": "stream",
     "text": [
      "\n",
      " The Training data set are:\n",
      "['sunny', 'hot', 'high', 'false', 'no']\n",
      "['sunny', 'hot', 'high', 'true', 'no']\n",
      "['overcast', 'hot', 'high', 'false', 'yes']\n",
      "['rainy', 'mild', 'high', 'false', 'yes']\n",
      "['rainy', 'cool', 'normal', 'false', 'yes']\n",
      "['rainy', 'cool', 'normal', 'true', 'no']\n",
      "['overcast', 'cool', 'normal', 'true', 'yes']\n",
      "['sunny', 'mild', 'high', 'false', 'no']\n",
      "\n",
      " The Test data set are:\n",
      "['sunny' 'cool' 'normal' 'false' 'yes']\n",
      "['rainy' 'mild' 'normal' 'false' 'yes']\n",
      "['sunny' 'mild' 'normal' 'true' 'yes']\n",
      "['overcast' 'mild' 'high' 'true' 'yes']\n",
      "['overcast' 'hot' 'normal' 'false' 'yes']\n",
      "['rainy' 'mild' 'high' 'true' 'no']\n",
      "\n",
      "\n",
      "training data size= 8\n",
      "test data size= 6\n",
      "\n",
      "\n",
      "target    count    probability\n",
      "count yes 4 count no 4\n",
      "yes \t 4 \t 0.5\n",
      "no \t 4 \t 0.5\n",
      "\n",
      "\n",
      "instance prediction  target\n",
      "1 \t no \t     yes\n",
      "2 \t yes \t     yes\n",
      "3 \t no \t     yes\n",
      "4 \t yes \t     yes\n",
      "5 \t yes \t     yes\n",
      "6 \t no \t     no\n",
      "accuracy 66.66666666666666 %\n"
     ]
    }
   ],
   "source": [
    "metadata,traindata= read_data(\"golf_df.csv\")\n",
    "splitRatio=0.6\n",
    "trainingset, testset=splitDataset(traindata, splitRatio)\n",
    "training=np.array(trainingset)\n",
    "print(\"\\n The Training data set are:\")\n",
    "for x in trainingset:\n",
    "    print(x)\n",
    "   \n",
    "testing=np.array(testset)\n",
    "print(\"\\n The Test data set are:\")\n",
    "for x in testing:\n",
    "    print(x)\n",
    "classify(training,testing)"
   ]
  },
  {
   "cell_type": "code",
   "execution_count": null,
   "id": "e6f37400",
   "metadata": {},
   "outputs": [],
   "source": []
  },
  {
   "cell_type": "code",
   "execution_count": null,
   "id": "958ba104",
   "metadata": {},
   "outputs": [],
   "source": []
  }
 ],
 "metadata": {
  "kernelspec": {
   "display_name": "Python 3 (ipykernel)",
   "language": "python",
   "name": "python3"
  },
  "language_info": {
   "codemirror_mode": {
    "name": "ipython",
    "version": 3
   },
   "file_extension": ".py",
   "mimetype": "text/x-python",
   "name": "python",
   "nbconvert_exporter": "python",
   "pygments_lexer": "ipython3",
   "version": "3.9.9"
  }
 },
 "nbformat": 4,
 "nbformat_minor": 5
}
